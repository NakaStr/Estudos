{
 "cells": [
  {
   "cell_type": "code",
   "execution_count": 1,
   "metadata": {},
   "outputs": [
    {
     "name": "stdout",
     "output_type": "stream",
     "text": [
      "Hello World\n"
     ]
    }
   ],
   "source": [
    "print (\"Hello World\")"
   ]
  },
  {
   "cell_type": "code",
   "execution_count": 32,
   "metadata": {},
   "outputs": [
    {
     "name": "stdout",
     "output_type": "stream",
     "text": [
      " Nome completo: Leo Naka\n",
      " Idade 28;\n",
      " Você é novo Desenvolvedor? Sim.\n",
      "Parabéns pela escolha\n"
     ]
    }
   ],
   "source": [
    "name = input(\"Nome Completo\")\n",
    "age = input(\"Idade\")\n",
    "expected = \"SIM\"\n",
    "clasi = input(\"Novo desenvolvedor? \")\n",
    "print (\" Nome completo: %s\\n Idade %s;\\n Você é novo Desenvolvedor? %s.\" % (name, age, clasi) )\n",
    "if clasi == \"Sim\":\n",
    "        print (\"Parabéns pela escolha\")\n",
    "else: \n",
    "        print (\"Voce seria um otimo programador\")"
   ]
  },
  {
   "cell_type": "code",
   "execution_count": 7,
   "metadata": {},
   "outputs": [
    {
     "name": "stdout",
     "output_type": "stream",
     "text": [
      "TEM CERTEZA IRMAO?\n"
     ]
    }
   ],
   "source": [
    "\n",
    "while True:\n",
    "    convite = input(\"koe nene, tem compromisso hoje? 'Sim' ou 'Não' \\n\")\n",
    "    if convite == \"Não\":\n",
    "        convite = False\n",
    "        print(\"BORA JOGA UM ARAM?\")\n",
    "        break\n",
    "    else: print(\"TEM CERTEZA IRMAO?\")\n",
    "    break\n",
    "        \n",
    "    \n",
    "    \n",
    "        \n",
    "\n",
    "\n",
    "\n",
    "\n",
    "    "
   ]
  },
  {
   "cell_type": "code",
   "execution_count": 21,
   "metadata": {},
   "outputs": [
    {
     "name": "stdout",
     "output_type": "stream",
     "text": [
      "olá mundo\n"
     ]
    }
   ],
   "source": []
  }
 ],
 "metadata": {
  "kernelspec": {
   "display_name": "Python 3.10.6 64-bit",
   "language": "python",
   "name": "python3"
  },
  "language_info": {
   "codemirror_mode": {
    "name": "ipython",
    "version": 3
   },
   "file_extension": ".py",
   "mimetype": "text/x-python",
   "name": "python",
   "nbconvert_exporter": "python",
   "pygments_lexer": "ipython3",
   "version": "3.10.6"
  },
  "orig_nbformat": 4,
  "vscode": {
   "interpreter": {
    "hash": "9be826744cc5714b462ad0c8de88bfa6f016a48973c6317b9546595d1685cabb"
   }
  }
 },
 "nbformat": 4,
 "nbformat_minor": 2
}
